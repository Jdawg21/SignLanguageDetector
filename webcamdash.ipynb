{
 "cells": [
  {
   "cell_type": "code",
   "execution_count": 1,
   "id": "opposite-floating",
   "metadata": {
    "extensions": {
     "jupyter_dashboards": {
      "version": 1,
      "views": {
       "grid_default": {},
       "report_default": {
        "hidden": true
       }
      }
     }
    }
   },
   "outputs": [],
   "source": [
    "import cv2\n",
    "import numpy as np\n",
    "import math\n",
    "import os"
   ]
  },
  {
   "cell_type": "code",
   "execution_count": 2,
   "id": "primary-database",
   "metadata": {
    "extensions": {
     "jupyter_dashboards": {
      "version": 1,
      "views": {
       "grid_default": {},
       "report_default": {
        "hidden": true
       }
      }
     }
    }
   },
   "outputs": [],
   "source": [
    "from __future__ import print_function\n",
    "from ipywidgets import interact, interactive, fixed, interact_manual\n",
    "from IPython.display import display\n",
    "import ipywidgets as widgets"
   ]
  },
  {
   "cell_type": "markdown",
   "id": "fatal-console",
   "metadata": {
    "extensions": {
     "jupyter_dashboards": {
      "version": 1,
      "views": {
       "grid_default": {},
       "report_default": {
        "hidden": false
       }
      }
     }
    }
   },
   "source": [
    "#  <span style =\"text-decoration: underline\">Sign Language Interpreter</span>\n",
    "\n",
    "### <span style =\"font-family:Times New Roman\"><span style =\"color:blue\">**The sign language interpreter is an application which functions as a tool that can break down the communication barrier between the hard-of-hearing and the general public.** </span></span>"
   ]
  },
  {
   "cell_type": "markdown",
   "id": "chinese-awareness",
   "metadata": {
    "extensions": {
     "jupyter_dashboards": {
      "version": 1,
      "views": {
       "grid_default": {},
       "report_default": {
        "hidden": false
       }
      }
     }
    }
   },
   "source": [
    "![SIGN LANGUAGE](images/signlangbg.jpg)"
   ]
  },
  {
   "cell_type": "code",
   "execution_count": 3,
   "id": "younger-driving",
   "metadata": {
    "extensions": {
     "jupyter_dashboards": {
      "version": 1,
      "views": {
       "grid_default": {},
       "report_default": {
        "hidden": true
       }
      }
     }
    }
   },
   "outputs": [],
   "source": [
    "image = cv2.imread(\"images/test/hello/1.jpg\")\n",
    "gray_image = cv2.cvtColor(image, cv2.COLOR_BGR2GRAY) \n",
    "histogramtest = cv2.calcHist([gray_image], [0],  None, [256], [0, 256])"
   ]
  },
  {
   "cell_type": "code",
   "execution_count": 11,
   "id": "lesbian-coordination",
   "metadata": {
    "extensions": {
     "jupyter_dashboards": {
      "version": 1,
      "views": {
       "grid_default": {},
       "report_default": {
        "hidden": true
       }
      }
     }
    }
   },
   "outputs": [],
   "source": [
    "image = cv2.imread('images/test/no/153.jpg') \n",
    "gray_image1 = cv2.cvtColor(image, cv2.COLOR_BGR2GRAY)  \n",
    "histogramno = cv2.calcHist([gray_image1], [0],  None, [256], [0, 256])"
   ]
  },
  {
   "cell_type": "code",
   "execution_count": 5,
   "id": "normal-frame",
   "metadata": {
    "extensions": {
     "jupyter_dashboards": {
      "version": 1,
      "views": {
       "grid_default": {},
       "report_default": {
        "hidden": true
       }
      }
     }
    }
   },
   "outputs": [],
   "source": [
    "image = cv2.imread('images/test/hello/101.jpg') \n",
    "gray_image2 = cv2.cvtColor(image, cv2.COLOR_BGR2GRAY) \n",
    "histogramhello = cv2.calcHist([gray_image2], [0],  \n",
    "                          None, [256], [0, 256]) "
   ]
  },
  {
   "cell_type": "code",
   "execution_count": 6,
   "id": "second-auckland",
   "metadata": {
    "extensions": {
     "jupyter_dashboards": {
      "version": 1,
      "views": {
       "grid_default": {},
       "report_default": {
        "hidden": true
       }
      }
     }
    }
   },
   "outputs": [],
   "source": [
    "image = cv2.imread('images/test/yes/100.jpg') \n",
    "gray_image2 = cv2.cvtColor(image, cv2.COLOR_BGR2GRAY) \n",
    "histogramyes = cv2.calcHist([gray_image2], [0],  \n",
    "                          None, [256], [0, 256]) "
   ]
  },
  {
   "cell_type": "code",
   "execution_count": 7,
   "id": "incorporated-monitoring",
   "metadata": {
    "extensions": {
     "jupyter_dashboards": {
      "version": 1,
      "views": {
       "grid_default": {},
       "report_default": {
        "hidden": true
       }
      }
     }
    }
   },
   "outputs": [],
   "source": [
    "image = cv2.imread('images/test/I/249.jpg') \n",
    "gray_image2 = cv2.cvtColor(image, cv2.COLOR_BGR2GRAY) \n",
    "histogrami = cv2.calcHist([gray_image2], [0],  \n",
    "                          None, [256], [0, 256]) "
   ]
  },
  {
   "cell_type": "code",
   "execution_count": 8,
   "id": "declared-creator",
   "metadata": {
    "extensions": {
     "jupyter_dashboards": {
      "version": 1,
      "views": {
       "grid_default": {},
       "report_default": {
        "hidden": true
       }
      }
     }
    }
   },
   "outputs": [],
   "source": [
    "image = cv2.imread('temp/tempwhite.png') \n",
    "gray_image2 = cv2.cvtColor(image, cv2.COLOR_BGR2GRAY) \n",
    "histogramwhite = cv2.calcHist([gray_image2], [0],  \n",
    "                          None, [256], [0, 256]) "
   ]
  },
  {
   "cell_type": "code",
   "execution_count": 9,
   "id": "tested-powder",
   "metadata": {
    "extensions": {
     "jupyter_dashboards": {
      "version": 1,
      "views": {
       "grid_default": {},
       "report_default": {
        "hidden": true
       }
      }
     }
    }
   },
   "outputs": [],
   "source": [
    "def calculate(histogramweb):\n",
    "    c1, c2, c3, c4, c5 = 0,0,0,0,0\n",
    "    \n",
    "    i = 0\n",
    "    while i<len(histogramweb) and i<len(histogramno): \n",
    "        c1+=(histogramweb[i]-histogramno[i])**2\n",
    "        i+= 1\n",
    "    c1 = c1**(1 / 2) \n",
    "    \n",
    "    j = 0\n",
    "    while j<len(histogramweb) and j<len(histogramhello): \n",
    "        c2+=(histogramweb[j]-histogramhello[j])**2\n",
    "        j+= 1\n",
    "    c2 = c2**(1 / 2)\n",
    "    \n",
    "    z = 0\n",
    "    while z<len(histogramweb) and z<len(histogramyes): \n",
    "        c3+=(histogramweb[z]-histogramyes[z])**2\n",
    "        z+= 1\n",
    "    c3 = c3**(1 / 2)   \n",
    "    \n",
    "    w = 0\n",
    "    while w<len(histogramweb) and w<len(histogrami): \n",
    "        c4+=(histogramweb[w]-histogrami[w])**2\n",
    "        w+= 1\n",
    "    c4 = c4**(1 / 2) \n",
    "    \n",
    "    a = 0\n",
    "    while a<len(histogramweb) and a<len(histogramwhite): \n",
    "        c5+=(histogramweb[a]-histogramwhite[a])**2\n",
    "        a+= 1\n",
    "    c5 = c5**(1 / 2) \n",
    "    \n",
    "    clist = [c1,c2,c3,c4,c5]\n",
    "    minimum = min(clist)\n",
    "    if c1 == minimum:\n",
    "        string = \"sign is no\"\n",
    "    elif c2 == minimum:\n",
    "        string = \"sign is hello\"\n",
    "    elif c3 == minimum:\n",
    "        string = \"sign is yes\"\n",
    "    elif c4 == minimum:\n",
    "        string = \"sign is i\"\n",
    "    else:\n",
    "        string = \"Unrecognized Pattern\"\n",
    "    return string"
   ]
  },
  {
   "cell_type": "code",
   "execution_count": null,
   "id": "promotional-stanley",
   "metadata": {
    "extensions": {
     "jupyter_dashboards": {
      "version": 1,
      "views": {
       "grid_default": {},
       "report_default": {
        "hidden": true
       }
      }
     }
    }
   },
   "outputs": [],
   "source": []
  },
  {
   "cell_type": "code",
   "execution_count": 12,
   "id": "statistical-keyboard",
   "metadata": {
    "extensions": {
     "jupyter_dashboards": {
      "version": 1,
      "views": {
       "grid_default": {},
       "report_default": {
        "hidden": false
       }
      }
     }
    }
   },
   "outputs": [
    {
     "data": {
      "application/vnd.jupyter.widget-view+json": {
       "model_id": "63a1c0e1f0a54c17be3fb7d17279814d",
       "version_major": 2,
       "version_minor": 0
      },
      "text/plain": [
       "Button(button_style='primary', description='CLICK ME !!', style=ButtonStyle())"
      ]
     },
     "metadata": {},
     "output_type": "display_data"
    }
   ],
   "source": [
    "def getwebcam(arg):\n",
    "    cap = cv2.VideoCapture(0)\n",
    "    while True:\n",
    "\n",
    "        try:\n",
    "            ret, frame = cap.read()\n",
    "            frame=cv2.flip(frame,1)\n",
    "            kernel = np.ones((3,3),np.uint8)\n",
    "            roi=frame[100:300, 100:300]\n",
    "            cv2.rectangle(frame,(100,100),(300,300),(0,255,0),0)\n",
    "            hsv = cv2.cvtColor(roi, cv2.COLOR_BGR2HSV)\n",
    "            lower_skin = np.array([0,20,70], dtype=np.uint8)\n",
    "            upper_skin = np.array([20,255,255], dtype=np.uint8)\n",
    "            mask = cv2.inRange(hsv, lower_skin, upper_skin)\n",
    "            mask = cv2.dilate(mask,kernel,iterations = 4)\n",
    "\n",
    "            #image is blurred using GBlur\n",
    "            #mask = cv2.GaussianBlur(mask,(5,5),100)\n",
    "            ret,thresh = cv2.threshold(mask,0,255,cv2.THRESH_BINARY)\n",
    "            contours,hierarchy= cv2.findContours(mask,cv2.RETR_TREE,cv2.CHAIN_APPROX_SIMPLE)\n",
    "            cnt = max(contours, key = lambda x: cv2.contourArea(x))\n",
    "            epsilon = 0.0005*cv2.arcLength(cnt,True)\n",
    "            approx= cv2.approxPolyDP(cnt,epsilon,True)\n",
    "            hull = cv2.convexHull(cnt)\n",
    "\n",
    "\n",
    "            hull = cv2.convexHull(approx, returnPoints=False)\n",
    "            defects = cv2.convexityDefects(approx, hull)\n",
    "            count_defects = 0\n",
    "\n",
    "            for i in range(defects.shape[0]):\n",
    "                s,e,f,d = defects[i,0]\n",
    "\n",
    "                path = 'temp'\n",
    "                cv2.imwrite(os.path.join(path , 'temp.png'), thresh)\n",
    "                image = cv2.imread(\"temp/temp.png\")\n",
    "                gray_image = cv2.cvtColor(image, cv2.COLOR_BGR2GRAY) \n",
    "                histogramweb = cv2.calcHist([gray_image], [0],  None, [256], [0, 256])\n",
    "                x = calculate(histogramweb)\n",
    "                #print(x)\n",
    "                cv2.putText(frame, x, (0,50), cv2.FONT_HERSHEY_SIMPLEX, 2,(0,0,255),2)\n",
    "\n",
    "            cv2.imshow('mask',mask)\n",
    "            cv2.imshow('frame',frame)\n",
    "            cv2.imshow(\"gray\", gray_image)\n",
    "            cv2.imshow('threshold',thresh)\n",
    "        except:\n",
    "            pass\n",
    "\n",
    "\n",
    "        if cv2.waitKey(1) == ord('q'):\n",
    "            break\n",
    "\n",
    "    cv2.destroyAllWindows()\n",
    "    cap.release()\n",
    "\n",
    "button_download = widgets.Button(description = 'CLICK ME !!', button_style='primary')  \n",
    "button_download.on_click(getwebcam)\n",
    "display(button_download)"
   ]
  },
  {
   "cell_type": "code",
   "execution_count": null,
   "id": "iraqi-touch",
   "metadata": {
    "extensions": {
     "jupyter_dashboards": {
      "version": 1,
      "views": {
       "grid_default": {},
       "report_default": {
        "hidden": true
       }
      }
     }
    }
   },
   "outputs": [],
   "source": []
  }
 ],
 "metadata": {
  "extensions": {
   "jupyter_dashboards": {
    "activeView": "report_default",
    "version": 1,
    "views": {
     "grid_default": {
      "cellMargin": 10,
      "defaultCellHeight": 20,
      "maxColumns": 12,
      "name": "grid",
      "type": "grid"
     },
     "report_default": {
      "name": "report",
      "type": "report"
     }
    }
   }
  },
  "kernelspec": {
   "display_name": "Python 3",
   "language": "python",
   "name": "python3"
  },
  "language_info": {
   "codemirror_mode": {
    "name": "ipython",
    "version": 3
   },
   "file_extension": ".py",
   "mimetype": "text/x-python",
   "name": "python",
   "nbconvert_exporter": "python",
   "pygments_lexer": "ipython3",
   "version": "3.7.9"
  }
 },
 "nbformat": 4,
 "nbformat_minor": 5
}
